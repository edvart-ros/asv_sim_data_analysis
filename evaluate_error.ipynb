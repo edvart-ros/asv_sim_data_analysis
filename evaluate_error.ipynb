{
 "cells": [
  {
   "cell_type": "code",
   "execution_count": 159,
   "metadata": {},
   "outputs": [],
   "source": [
    "import matplotlib.pyplot as plt\n",
    "from mpl_toolkits.axes_grid1.inset_locator import inset_axes, mark_inset\n",
    "import pandas as pd\n",
    "import numpy as np\n",
    "import matplotlib as mpl\n",
    "from scipy.interpolate import interp1d"
   ]
  },
  {
   "cell_type": "code",
   "execution_count": 160,
   "metadata": {},
   "outputs": [],
   "source": [
    "data_coarse = pd.read_csv(\"data/CoarseSphereResults.csv\")\n",
    "data_semi_coarse = pd.read_csv(\"data/SemiCoarseSphereResults.csv\")\n",
    "data_semi_detailed = pd.read_csv(\"data/SemiDetailedSphereResults.csv\")\n",
    "data_detailed = pd.read_csv(\"data/DetailedSphereResults.csv\")\n",
    "data_volume_81 = pd.read_csv(\"data/Voxel/VolumeData-Sphere81.csv\")\n",
    "data_volume_512 = pd.read_csv(\"data/Voxel/VolumeData-Sphere512.csv\")\n",
    "data_volume_4154 = pd.read_csv(\"data/Voxel/VolumeData-Sphere4154.csv\")\n",
    "data_volume_33378 = pd.read_csv(\"data/Voxel/VolumeData-Sphere33378.csv\")"
   ]
  },
  {
   "cell_type": "markdown",
   "metadata": {},
   "source": [
    "### include only data for $(0.0 \\le depth \\le 1.0)$"
   ]
  },
  {
   "cell_type": "code",
   "execution_count": 161,
   "metadata": {},
   "outputs": [],
   "source": [
    "data_coarse = data_coarse[data_coarse['depth'] <= 1.0]\n",
    "data_semi_coarse = data_semi_coarse[data_semi_coarse['depth'] <= 1.0]\n",
    "data_semi_detailed = data_semi_detailed[data_semi_detailed['depth'] <= 1.0]\n",
    "data_detailed = data_detailed[data_detailed['depth'] <= 1.0]\n",
    "data_coarse = data_coarse[data_coarse['depth'] >= 0.0]\n",
    "data_semi_coarse = data_semi_coarse[data_semi_coarse['depth'] >= 0.0]\n",
    "data_semi_detailed = data_semi_detailed[data_semi_detailed['depth'] >= 0.0]\n",
    "data_detailed = data_detailed[data_detailed['depth'] >= 0.0]\n",
    "\n",
    "data_volume_81 = data_volume_81[data_volume_81['depth'] <= 1.0]\n",
    "data_volume_512 = data_volume_512[data_volume_512['depth'] <= 1.0]\n",
    "data_volume_4154 = data_volume_4154[data_volume_4154['depth'] <= 1.0]\n",
    "data_volume_33378 = data_volume_33378[data_volume_33378['depth'] <= 1.0]\n",
    "data_volume_81 = data_volume_81[data_volume_81['depth'] >= 0.0]\n",
    "data_volume_512 = data_volume_512[data_volume_512['depth'] >= 0.0]\n",
    "data_volume_4154 = data_volume_4154[data_volume_4154['depth'] >= 0.0]\n",
    "data_volume_33378 = data_volume_33378[data_volume_33378['depth'] >= 0.0]"
   ]
  },
  {
   "cell_type": "code",
   "execution_count": 162,
   "metadata": {},
   "outputs": [],
   "source": [
    "data0 = data_coarse.to_numpy()\n",
    "data1 = data_semi_coarse.to_numpy()\n",
    "data2 = data_semi_detailed.to_numpy()\n",
    "data3 = data_detailed.to_numpy()\n",
    "data4 = data_volume_81.to_numpy()\n",
    "data5 = data_volume_512.to_numpy()\n",
    "data6 = data_volume_4154.to_numpy()\n",
    "data7 = data_volume_33378.to_numpy()\n",
    "datasets = [data0, data1, data2, data3, data4, data5, data6, data7]\n",
    "errors = [0]*len(datasets)"
   ]
  },
  {
   "cell_type": "code",
   "execution_count": 163,
   "metadata": {},
   "outputs": [],
   "source": [
    "def analytic(d, R):\n",
    "    return (np.pi * d**2 / 3) * (3*R - d)"
   ]
  },
  {
   "cell_type": "code",
   "execution_count": 164,
   "metadata": {},
   "outputs": [
    {
     "name": "stdout",
     "output_type": "stream",
     "text": [
      "[0.0014848236482079165, 0.00010533816438919442, 6.815379587227416e-06, 4.2968299141891117e-07, 0.0068546921017750145, 0.00032792434930226317, 7.207458533074806e-05, 1.7945981690682468e-05]\n"
     ]
    }
   ],
   "source": [
    "for i in range(len(datasets)):\n",
    "    data = datasets[i]\n",
    "    _error = 0\n",
    "    N = data.shape[0]\n",
    "    for [depth, volume] in data:\n",
    "        _error += (volume-analytic(depth, 0.5))**2\n",
    "    errors[i] = _error/N\n",
    "print(errors)"
   ]
  }
 ],
 "metadata": {
  "kernelspec": {
   "display_name": "Python 3",
   "language": "python",
   "name": "python3"
  },
  "language_info": {
   "codemirror_mode": {
    "name": "ipython",
    "version": 3
   },
   "file_extension": ".py",
   "mimetype": "text/x-python",
   "name": "python",
   "nbconvert_exporter": "python",
   "pygments_lexer": "ipython3",
   "version": "3.12.2"
  }
 },
 "nbformat": 4,
 "nbformat_minor": 2
}
