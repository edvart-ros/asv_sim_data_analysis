{
 "cells": [
  {
   "cell_type": "code",
   "execution_count": 13,
   "metadata": {},
   "outputs": [],
   "source": [
    "import matplotlib.pyplot as plt\n",
    "import numpy as np\n",
    "import pandas as pd"
   ]
  },
  {
   "cell_type": "code",
   "execution_count": 14,
   "metadata": {},
   "outputs": [],
   "source": [
    "data_20 = pd.read_csv(\"data/TimingData/TimeData-Submersion-Sphere20.csv\")\n",
    "data_80 = pd.read_csv(\"data/TimingData/TimeData-Submersion-Sphere80.csv\")\n",
    "data_320 = pd.read_csv(\"data/TimingData/TimeData-Submersion-Sphere320.csv\")\n",
    "data_1280 = pd.read_csv(\"data/TimingData/TimeData-Submersion-Sphere1280.csv\")\n",
    "data_5120 = pd.read_csv(\"data/TimingData/TimeData-Submersion-Sphere5120.csv\")\n",
    "\n",
    "data_20 = data_20[data_20['iteration_number'] >= 20].to_numpy()\n",
    "data_80 = data_80[data_80['iteration_number'] >= 20].to_numpy()\n",
    "data_320 = data_320[data_320['iteration_number'] >= 20].to_numpy()\n",
    "data_1280 = data_1280[data_1280['iteration_number'] >= 20].to_numpy()\n",
    "data_5120 = data_5120[data_5120['iteration_number'] >= 20].to_numpy()"
   ]
  },
  {
   "cell_type": "code",
   "execution_count": 15,
   "metadata": {},
   "outputs": [],
   "source": [
    "avg_20 = np.average(data_20[:,1])\n",
    "avg_80 = np.average(data_80[:,1])\n",
    "avg_320 = np.average(data_320[:,1])\n",
    "avg_1280 = np.average(data_1280[:,1])\n",
    "avg_5120 = np.average(data_5120[:,1])"
   ]
  },
  {
   "cell_type": "code",
   "execution_count": 16,
   "metadata": {},
   "outputs": [
    {
     "name": "stdout",
     "output_type": "stream",
     "text": [
      "74.23625\n",
      "138.06374999999997\n",
      "371.76750000000004\n",
      "1258.875\n",
      "4769.3725\n"
     ]
    }
   ],
   "source": [
    "print(avg_20)\n",
    "print(avg_80)\n",
    "print(avg_320)\n",
    "print(avg_1280)\n",
    "print(avg_5120)"
   ]
  }
 ],
 "metadata": {
  "kernelspec": {
   "display_name": "Python 3",
   "language": "python",
   "name": "python3"
  },
  "language_info": {
   "codemirror_mode": {
    "name": "ipython",
    "version": 3
   },
   "file_extension": ".py",
   "mimetype": "text/x-python",
   "name": "python",
   "nbconvert_exporter": "python",
   "pygments_lexer": "ipython3",
   "version": "3.12.2"
  }
 },
 "nbformat": 4,
 "nbformat_minor": 2
}
